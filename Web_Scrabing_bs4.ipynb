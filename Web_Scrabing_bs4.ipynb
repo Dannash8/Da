{
 "cells": [
  {
   "cell_type": "code",
   "execution_count": null,
   "metadata": {},
   "outputs": [],
   "source": [
    "import pandas as pd \n",
    "import requests \n",
    "from bs4 import BeautifulSoup\n",
    "\n",
    "data = requests.get('https://www.ebay.com/sch/i.html?_from=R40&_trksid=p2334524.m570.l1313&_nkw=iphone&_sacat=0&LH_TitleDesc=0&_odkw=Tablets&_osacat=0')\n",
    "src = data.content\n",
    "soup = BeautifulSoup(src, 'lxml')"
   ]
  },
  {
   "cell_type": "code",
   "execution_count": null,
   "metadata": {},
   "outputs": [],
   "source": [
    "titles = soup.find_all('h3', {'class':\"s-item__title\"})[1:]\n",
    "prices = soup.find_all('span', {'class':\"s-item__price\"})\n",
    "shipping_costs = soup.find_all('span', {'class':\"s-item__shipping s-item__logisticsCost\"})\n",
    "countries = soup.find_all('span', {'class':\"s-item__location s-item__itemLocation\"})\n",
    "element_states = soup.find_all('span', {'class':\"SECONDARY_INFO\"})\n",
    "top_rated_sellers = soup.find_all('span', {'class':\"s-item__etrs-text\"})\n",
    "title = []\n",
    "price = []\n",
    "shipping_cost = []\n",
    "country = []\n",
    "state = []\n",
    "top_rated_seller = []\n",
    "for i in range(len(titles)):\n",
    "    title.append(titles[i].text)\n",
    "    price.append(prices[i].text)\n",
    "    shipping_cost.append(shipping_costs[i].text)\n",
    "    country.append(countries[i].text)\n",
    "    state.append(element_states[i].text)\n",
    "    #top_rated_seller.append(top_rated_sellers[i].text)\n",
    "df = pd.DataFrame()\n",
    "df['Title'] = title\n",
    "df['Price'] = price\n",
    "df['State'] = state\n",
    "df['Shipping Fee'] = shipping_cost\n",
    "#df['Top Rated Seller'] = top_rated_seller\n",
    "df['Country'] = country\n",
    "df.to_csv('D:/IPhone.csv', index=False)"
   ]
  },
  {
   "cell_type": "code",
   "execution_count": null,
   "metadata": {},
   "outputs": [],
   "source": [
    "df.head()"
   ]
  }
 ],
 "metadata": {
  "interpreter": {
   "hash": "786da6812a389f45e73f7b87ee42ca53bac73eb319cb3212d18527c48d926a3c"
  },
  "kernelspec": {
   "display_name": "Python 3.9.6 64-bit",
   "language": "python",
   "name": "python3"
  },
  "language_info": {
   "codemirror_mode": {
    "name": "ipython",
    "version": 3
   },
   "file_extension": ".py",
   "mimetype": "text/x-python",
   "name": "python",
   "nbconvert_exporter": "python",
   "pygments_lexer": "ipython3",
   "version": "3.9.6"
  },
  "orig_nbformat": 4
 },
 "nbformat": 4,
 "nbformat_minor": 2
}
